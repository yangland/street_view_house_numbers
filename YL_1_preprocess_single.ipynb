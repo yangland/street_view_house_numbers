{
 "cells": [
  {
   "cell_type": "code",
   "execution_count": 30,
   "metadata": {
    "tags": []
   },
   "outputs": [],
   "source": [
    "from __future__ import print_function\n",
    "import matplotlib.pyplot as plt\n",
    "import numpy as np\n",
    "import os\n",
    "import sys\n",
    "import tarfile\n",
    "import tensorflow as tf\n",
    "from IPython.display import display, Image\n",
    "from scipy import ndimage\n",
    "from sklearn.linear_model import SGDClassifier\n",
    "from sklearn.metrics import classification_report, confusion_matrix\n",
    "from six.moves.urllib.request import urlretrieve\n",
    "from six.moves import cPickle as pickle\n",
    "%matplotlib inline"
   ]
  },
  {
   "cell_type": "code",
   "execution_count": 2,
   "metadata": {
    "collapsed": false,
    "jupyter": {
     "outputs_hidden": false
    }
   },
   "outputs": [
    {
     "name": "stdout",
     "output_type": "stream",
     "text": [
      "Attempting to download: train.tar.gz\n",
      "0%....5%....10%....15%....20%....25%....30%....35%....40%....45%....50%....55%....60%....65%....70%....75%....80%....85%....90%....95%....100%\n",
      "Download Complete!\n",
      "Attempting to download: test.tar.gz\n",
      "0%....5%....10%....15%....20%....25%....30%....35%....40%....45%....50%....55%....60%....65%....70%....75%....80%....85%....90%....95%....100%\n",
      "Download Complete!\n"
     ]
    }
   ],
   "source": [
    "url = 'http://ufldl.stanford.edu/housenumbers/'\n",
    "last_percent_reported = None\n",
    "\n",
    "def download_progress_hook(count, blockSize, totalSize):\n",
    "  \"\"\"A hook to report the progress of a download. This is mostly intended for users with\n",
    "  slow internet connections. Reports every 1% change in download progress.\n",
    "  \"\"\"\n",
    "  global last_percent_reported\n",
    "  percent = int(count * blockSize * 100 / totalSize)\n",
    "\n",
    "  if last_percent_reported != percent:\n",
    "    if percent % 5 == 0:\n",
    "      sys.stdout.write(\"%s%%\" % percent)\n",
    "      sys.stdout.flush()\n",
    "    else:\n",
    "      sys.stdout.write(\".\")\n",
    "      sys.stdout.flush()\n",
    "      \n",
    "    last_percent_reported = percent\n",
    "        \n",
    "def maybe_download(filename, force=False):\n",
    "  \"\"\"Download a file if not present, and make sure it's the right size.\"\"\"\n",
    "  if force or not os.path.exists(filename):\n",
    "    print('Attempting to download:', filename) \n",
    "    filename, _ = urlretrieve(url + filename, filename, reporthook=download_progress_hook)\n",
    "    print('\\nDownload Complete!')\n",
    "  statinfo = os.stat(filename)\n",
    "  return filename\n",
    "\n",
    "train_filename = maybe_download('train.tar.gz')\n",
    "test_filename = maybe_download('test.tar.gz')"
   ]
  },
  {
   "cell_type": "code",
   "execution_count": 3,
   "metadata": {
    "collapsed": false,
    "jupyter": {
     "outputs_hidden": false
    }
   },
   "outputs": [
    {
     "name": "stdout",
     "output_type": "stream",
     "text": [
      "Attempting to download: train_32x32.mat\n",
      "0%....5%....10%....15%....20%....25%....30%....35%....40%....45%....50%....55%....60%....65%....70%....75%....80%....85%....90%....95%....100%\n",
      "Download Complete!\n",
      "Attempting to download: test_32x32.mat\n",
      "0%....5%....10%....15%....20%....25%....30%....35%....40%....45%....50%....55%....60%....65%....70%....75%....80%....85%....90%....95%....100%\n",
      "Download Complete!\n",
      "Attempting to download: extra_32x32.mat\n",
      "0%....5%....10%....15%....20%....25%....30%....35%....40%....45%....50%....55%....60%....65%....70%....75%....80%....85%....90%....95%....100%\n",
      "Download Complete!\n"
     ]
    }
   ],
   "source": [
    "train_matfile = maybe_download('train_32x32.mat')\n",
    "test_matfile = maybe_download('test_32x32.mat')\n",
    "extra_matfile = maybe_download('extra_32x32.mat')"
   ]
  },
  {
   "cell_type": "code",
   "execution_count": 1,
   "metadata": {
    "collapsed": false,
    "jupyter": {
     "outputs_hidden": false
    }
   },
   "outputs": [
    {
     "name": "stdout",
     "output_type": "stream",
     "text": [
      "(32, 32, 3, 73257) (73257, 1)\n",
      "(32, 32, 3, 26032) (26032, 1)\n",
      "(32, 32, 3, 531131) (531131, 1)\n"
     ]
    }
   ],
   "source": [
    "import scipy.io\n",
    "train_data = scipy.io.loadmat('train_32x32.mat', variable_names='X').get('X')\n",
    "train_labels = scipy.io.loadmat('train_32x32.mat', variable_names='y').get('y')\n",
    "test_data = scipy.io.loadmat('test_32x32.mat', variable_names='X').get('X')\n",
    "test_labels = scipy.io.loadmat('test_32x32.mat', variable_names='y').get('y')\n",
    "extra_data = scipy.io.loadmat('extra_32x32.mat', variable_names='X').get('X')\n",
    "extra_labels = scipy.io.loadmat('extra_32x32.mat', variable_names='y').get('y')\n",
    "\n",
    "print(train_data.shape, train_labels.shape)\n",
    "print(test_data.shape, test_labels.shape)\n",
    "print(extra_data.shape, extra_labels.shape)"
   ]
  },
  {
   "cell_type": "code",
   "execution_count": 3,
   "metadata": {},
   "outputs": [
    {
     "data": {
      "text/plain": [
       "array([5], dtype=uint8)"
      ]
     },
     "execution_count": 3,
     "metadata": {},
     "output_type": "execute_result"
    }
   ],
   "source": [
    "test_labels[0]"
   ]
  },
  {
   "cell_type": "code",
   "execution_count": 21,
   "metadata": {},
   "outputs": [
    {
     "data": {
      "text/plain": [
       "(32, 3, 26032)"
      ]
     },
     "execution_count": 21,
     "metadata": {},
     "output_type": "execute_result"
    }
   ],
   "source": [
    "test_data[0,:,:].shape"
   ]
  },
  {
   "cell_type": "code",
   "execution_count": null,
   "metadata": {},
   "outputs": [],
   "source": []
  },
  {
   "cell_type": "code",
   "execution_count": 6,
   "metadata": {
    "tags": []
   },
   "outputs": [],
   "source": [
    "train_labels[train_labels == 10] = 0\n",
    "test_labels[test_labels == 10] = 0\n",
    "extra_labels[extra_labels == 10] = 0"
   ]
  },
  {
   "cell_type": "code",
   "execution_count": 31,
   "metadata": {
    "collapsed": false,
    "jupyter": {
     "outputs_hidden": false
    }
   },
   "outputs": [
    {
     "name": "stdout",
     "output_type": "stream",
     "text": [
      "(548490, 32, 32, 3) (548490,)\n",
      "(26032, 32, 32, 3) (26032,)\n",
      "(5400, 32, 32, 3) (5400,)\n"
     ]
    }
   ],
   "source": [
    "# Build Validation Dataset and Labels Based on the Methods in This Paper:\n",
    "# [https://arxiv.org/pdf/1204.3968.pdf]\n",
    "\n",
    "import random\n",
    "\n",
    "random.seed()\n",
    "\n",
    "n_labels = 10\n",
    "valid_index = []\n",
    "valid_index2 = []\n",
    "train_index = []\n",
    "train_index2 = []\n",
    "for i in np.arange(n_labels):\n",
    "    valid_index.extend(np.where(train_labels[:,0] == (i))[0][:400].tolist())\n",
    "    train_index.extend(np.where(train_labels[:,0] == (i))[0][400:].tolist())\n",
    "    valid_index2.extend(np.where(extra_labels[:,0] == (i))[0][:200].tolist())\n",
    "    train_index2.extend(np.where(extra_labels[:,0] == (i))[0][200:].tolist())\n",
    "\n",
    "random.shuffle(valid_index)\n",
    "random.shuffle(train_index)\n",
    "random.shuffle(valid_index2)\n",
    "random.shuffle(train_index2)\n",
    "\n",
    "valid_data = np.concatenate((extra_data[:,:,:,valid_index2], train_data[:,:,:,valid_index]), axis=3).transpose((3,0,1,2))\n",
    "valid_labels = np.concatenate((extra_labels[valid_index2,:], train_labels[valid_index,:]), axis=0)[:,0]\n",
    "train_data_t = np.concatenate((extra_data[:,:,:,train_index2], train_data[:,:,:,train_index]), axis=3).transpose((3,0,1,2))\n",
    "train_labels_t = np.concatenate((extra_labels[train_index2,:], train_labels[train_index,:]), axis=0)[:,0]\n",
    "test_data = test_data.transpose((3,0,1,2))\n",
    "test_labels = test_labels[:,0]\n",
    "\n",
    "print(train_data_t.shape, train_labels_t.shape)\n",
    "print(test_data.shape, test_labels.shape)\n",
    "print(valid_data.shape, valid_labels.shape)"
   ]
  },
  {
   "cell_type": "code",
   "execution_count": 52,
   "metadata": {},
   "outputs": [],
   "source": [
    "def check_xy(data, label, j):\n",
    "    x = Image.fromarray(data[j])\n",
    "    y = label[j]\n",
    "    # x.show()\n",
    "    return x, y"
   ]
  },
  {
   "cell_type": "code",
   "execution_count": 32,
   "metadata": {},
   "outputs": [
    {
     "data": {
      "text/plain": [
       "(32, 32, 3)"
      ]
     },
     "execution_count": 32,
     "metadata": {},
     "output_type": "execute_result"
    }
   ],
   "source": [
    "test_data[1].shape"
   ]
  },
  {
   "cell_type": "code",
   "execution_count": 40,
   "metadata": {},
   "outputs": [
    {
     "data": {
      "text/plain": [
       "5"
      ]
     },
     "execution_count": 40,
     "metadata": {},
     "output_type": "execute_result"
    }
   ],
   "source": [
    "test_labels[1]"
   ]
  },
  {
   "cell_type": "code",
   "execution_count": 37,
   "metadata": {},
   "outputs": [],
   "source": [
    "from PIL import Image"
   ]
  },
  {
   "cell_type": "code",
   "execution_count": 38,
   "metadata": {},
   "outputs": [],
   "source": [
    "img = Image.fromarray(test_data[0])"
   ]
  },
  {
   "cell_type": "code",
   "execution_count": 39,
   "metadata": {},
   "outputs": [
    {
     "data": {
      "image/png": "[encoded data removed]",
      "text/plain": [
       "<PIL.Image.Image image mode=RGB size=32x32>"
      ]
     },
     "execution_count": 39,
     "metadata": {},
     "output_type": "execute_result"
    }
   ],
   "source": [
    "img"
   ]
  },
  {
   "cell_type": "code",
   "execution_count": 58,
   "metadata": {},
   "outputs": [],
   "source": [
    "image, label = check_xy(test_data, test_labels, 99)"
   ]
  },
  {
   "cell_type": "code",
   "execution_count": 59,
   "metadata": {},
   "outputs": [
    {
     "data": {
      "image/png": "[encoded data removed]",
      "text/plain": [
       "<PIL.Image.Image image mode=RGB size=32x32>"
      ]
     },
     "execution_count": 59,
     "metadata": {},
     "output_type": "execute_result"
    }
   ],
   "source": [
    "image"
   ]
  },
  {
   "cell_type": "code",
   "execution_count": 60,
   "metadata": {},
   "outputs": [
    {
     "data": {
      "text/plain": [
       "7"
      ]
     },
     "execution_count": 60,
     "metadata": {},
     "output_type": "execute_result"
    }
   ],
   "source": [
    "label"
   ]
  },
  {
   "cell_type": "code",
   "execution_count": 33,
   "metadata": {
    "collapsed": false,
    "jupyter": {
     "outputs_hidden": false
    }
   },
   "outputs": [
    {
     "name": "stdout",
     "output_type": "stream",
     "text": [
      "(548490, 32, 32) (548490,)\n",
      "(26032, 32, 32) (26032,)\n",
      "(5400, 32, 32) (5400,)\n"
     ]
    }
   ],
   "source": [
    "image_size = 32  # Pixel width and height.\n",
    "pixel_depth = 255.0  # Number of levels per pixel.\n",
    "\n",
    "def im2gray(image):\n",
    "    '''Normalize images'''\n",
    "    image = image.astype(float)\n",
    "    # Use the Conversion Method in This Paper:\n",
    "    # [http://www.eyemaginary.com/Rendering/TurnColorsGray.pdf]\n",
    "    image_gray = np.dot(image, [[0.2989],[0.5870],[0.1140]])\n",
    "    return image_gray\n",
    "\n",
    "train_data_c = im2gray(train_data_t)[:,:,:,0]\n",
    "test_data_c = im2gray(test_data)[:,:,:,0]\n",
    "valid_data_c = im2gray(valid_data)[:,:,:,0]\n",
    "\n",
    "print(train_data_c.shape, train_labels_t.shape)\n",
    "print(test_data_c.shape, test_labels.shape)\n",
    "print(valid_data_c.shape, valid_labels.shape)"
   ]
  },
  {
   "cell_type": "code",
   "execution_count": 34,
   "metadata": {
    "collapsed": false,
    "jupyter": {
     "outputs_hidden": false
    }
   },
   "outputs": [
    {
     "name": "stdout",
     "output_type": "stream",
     "text": [
      "(548490, 32, 32) (548490,)\n",
      "(26032, 32, 32) (26032,)\n",
      "(5400, 32, 32) (5400,)\n"
     ]
    }
   ],
   "source": [
    "def GCN(image, min_divisor=1e-4):\n",
    "    \"\"\"Global Contrast Normalization\"\"\"\n",
    "    \n",
    "    imsize = image.shape[0]\n",
    "    mean = np.mean(image, axis=(1,2), dtype=float)\n",
    "    std = np.std(image, axis=(1,2), dtype=float, ddof=1)\n",
    "    std[std < min_divisor] = 1.\n",
    "    image_GCN = np.zeros(image.shape, dtype=float)\n",
    "    \n",
    "    for i in np.arange(imsize):\n",
    "        image_GCN[i,:,:] = (image[i,:,:] - mean[i]) / std[i]\n",
    "        \n",
    "    return image_GCN\n",
    "\n",
    "train_data_GCN = GCN(train_data_c)\n",
    "test_data_GCN = GCN(test_data_c)\n",
    "valid_data_GCN = GCN(valid_data_c)\n",
    "\n",
    "print(train_data_GCN.shape, train_labels_t.shape)\n",
    "print(test_data_GCN.shape, test_labels.shape)\n",
    "print(valid_data_GCN.shape, valid_labels.shape)"
   ]
  },
  {
   "cell_type": "code",
   "execution_count": 35,
   "metadata": {},
   "outputs": [
    {
     "data": {
      "text/plain": [
       "array([[0.27395864, 0.33465826, 0.34157871, ..., 0.29967964, 0.36037926,\n",
       "        0.05753679],\n",
       "       [0.33465826, 0.33465826, 0.34157871, ..., 0.29967964, 0.31417616,\n",
       "        0.05753679],\n",
       "       [0.35906802, 0.2983684 , 0.41976764, ..., 0.31417616, 0.28546237,\n",
       "        0.07137769],\n",
       "       ...,\n",
       "       [1.22270359, 1.28340321, 1.16200397, ..., 0.97962587, 0.95783252,\n",
       "        0.78265411],\n",
       "       [1.10130435, 1.16200397, 1.04060473, ..., 0.95783252, 0.94726366,\n",
       "        0.7651648 ],\n",
       "       [0.97990511, 0.97990511, 0.85850587, ..., 0.90405335, 0.88656404,\n",
       "        0.7790057 ]])"
      ]
     },
     "execution_count": 35,
     "metadata": {},
     "output_type": "execute_result"
    }
   ],
   "source": [
    "test_data_GCN[0]"
   ]
  },
  {
   "cell_type": "code",
   "execution_count": null,
   "metadata": {},
   "outputs": [],
   "source": []
  },
  {
   "cell_type": "code",
   "execution_count": 10,
   "metadata": {
    "collapsed": false,
    "jupyter": {
     "outputs_hidden": false
    }
   },
   "outputs": [
    {
     "data": {
      "image/png": "[encoded data removed]",
      "text/plain": [
       "<Figure size 1500x1500 with 10 Axes>"
      ]
     },
     "metadata": {},
     "output_type": "display_data"
    }
   ],
   "source": [
    "plt.rcParams['figure.figsize'] = (15.0, 15.0)\n",
    "f, ax = plt.subplots(nrows=1, ncols=10)\n",
    "\n",
    "for i, j in enumerate(np.random.randint(0, train_labels_t.shape[0], size=10)):\n",
    "    ax[i].axis('off')\n",
    "    ax[i].set_title(train_labels_t[j], loc='center')\n",
    "    ax[i].imshow(train_data_GCN[j,:,:])"
   ]
  },
  {
   "cell_type": "code",
   "execution_count": 11,
   "metadata": {
    "collapsed": false,
    "jupyter": {
     "outputs_hidden": false
    }
   },
   "outputs": [
    {
     "name": "stdout",
     "output_type": "stream",
     "text": [
      "Compressed pickle size: 263037003\n"
     ]
    }
   ],
   "source": [
    "pickle_file = 'SVHN.pickle'\n",
    "\n",
    "try:\n",
    "  f = open(pickle_file, 'wb')\n",
    "  save = {\n",
    "    #'train_dataset': train_data_GCN,\n",
    "    'train_labels': train_labels_t,\n",
    "    'valid_dataset': valid_data_GCN,\n",
    "    'valid_labels': valid_labels,\n",
    "    'test_dataset': test_data_GCN,\n",
    "    'test_labels': test_labels,\n",
    "    }\n",
    "  pickle.dump(save, f, pickle.HIGHEST_PROTOCOL)\n",
    "  f.close()\n",
    "except Exception as e:\n",
    "  print('Unable to save data to', pickle_file, ':', e)\n",
    "  raise\n",
    "    \n",
    "statinfo = os.stat(pickle_file)\n",
    "print('Compressed pickle size:', statinfo.st_size)"
   ]
  },
  {
   "cell_type": "code",
   "execution_count": 12,
   "metadata": {
    "collapsed": false,
    "jupyter": {
     "outputs_hidden": false
    }
   },
   "outputs": [
    {
     "name": "stdout",
     "output_type": "stream",
     "text": [
      "Compressed pickle size: 1638400186\n"
     ]
    }
   ],
   "source": [
    "pickle_file = 'SVHN1.pickle'\n",
    "\n",
    "try:\n",
    "  f = open(pickle_file, 'wb')\n",
    "  save = {\n",
    "    'train_dataset1': train_data_GCN[:200000],\n",
    "    }\n",
    "  pickle.dump(save, f, pickle.HIGHEST_PROTOCOL)\n",
    "  f.close()\n",
    "except Exception as e:\n",
    "  print('Unable to save data to', pickle_file, ':', e)\n",
    "  raise\n",
    "    \n",
    "statinfo = os.stat(pickle_file)\n",
    "print('Compressed pickle size:', statinfo.st_size)"
   ]
  },
  {
   "cell_type": "code",
   "execution_count": 13,
   "metadata": {
    "collapsed": false,
    "jupyter": {
     "outputs_hidden": false
    }
   },
   "outputs": [
    {
     "name": "stdout",
     "output_type": "stream",
     "text": [
      "Compressed pickle size: 1638400186\n"
     ]
    }
   ],
   "source": [
    "pickle_file = 'SVHN2.pickle'\n",
    "\n",
    "try:\n",
    "  f = open(pickle_file, 'wb')\n",
    "  save = {\n",
    "    'train_dataset2': train_data_GCN[200000:400000],\n",
    "    }\n",
    "  pickle.dump(save, f, pickle.HIGHEST_PROTOCOL)\n",
    "  f.close()\n",
    "except Exception as e:\n",
    "  print('Unable to save data to', pickle_file, ':', e)\n",
    "  raise\n",
    "    \n",
    "statinfo = os.stat(pickle_file)\n",
    "print('Compressed pickle size:', statinfo.st_size)"
   ]
  },
  {
   "cell_type": "code",
   "execution_count": 14,
   "metadata": {
    "collapsed": false,
    "jupyter": {
     "outputs_hidden": false
    }
   },
   "outputs": [
    {
     "name": "stdout",
     "output_type": "stream",
     "text": [
      "Compressed pickle size: 1625194682\n"
     ]
    }
   ],
   "source": [
    "pickle_file = 'SVHN3.pickle'\n",
    "\n",
    "try:\n",
    "  f = open(pickle_file, 'wb')\n",
    "  save = {\n",
    "    'train_dataset3': train_data_GCN[400000:],\n",
    "    }\n",
    "  pickle.dump(save, f, pickle.HIGHEST_PROTOCOL)\n",
    "  f.close()\n",
    "except Exception as e:\n",
    "  print('Unable to save data to', pickle_file, ':', e)\n",
    "  raise\n",
    "    \n",
    "statinfo = os.stat(pickle_file)\n",
    "print('Compressed pickle size:', statinfo.st_size)"
   ]
  },
  {
   "cell_type": "code",
   "execution_count": 15,
   "metadata": {
    "collapsed": false,
    "jupyter": {
     "outputs_hidden": false
    }
   },
   "outputs": [
    {
     "name": "stderr",
     "output_type": "stream",
     "text": [
      "D:\\anaconda3\\envs\\fl37\\lib\\site-packages\\sklearn\\linear_model\\_stochastic_gradient.py:700: ConvergenceWarning: Maximum number of iteration reached before convergence. Consider increasing max_iter to improve the fit.\n",
      "  ConvergenceWarning,\n"
     ]
    },
    {
     "name": "stdout",
     "output_type": "stream",
     "text": [
      "Training score is 0.1740593060021257\n",
      "Validation score is 0.10166666666666667\n"
     ]
    },
    {
     "name": "stderr",
     "output_type": "stream",
     "text": [
      "D:\\anaconda3\\envs\\fl37\\lib\\site-packages\\sklearn\\metrics\\_classification.py:1318: UndefinedMetricWarning: Precision and F-score are ill-defined and being set to 0.0 in labels with no predicted samples. Use `zero_division` parameter to control this behavior.\n",
      "  _warn_prf(average, modifier, msg_start, len(result))\n",
      "D:\\anaconda3\\envs\\fl37\\lib\\site-packages\\sklearn\\metrics\\_classification.py:1318: UndefinedMetricWarning: Precision and F-score are ill-defined and being set to 0.0 in labels with no predicted samples. Use `zero_division` parameter to control this behavior.\n",
      "  _warn_prf(average, modifier, msg_start, len(result))\n",
      "D:\\anaconda3\\envs\\fl37\\lib\\site-packages\\sklearn\\metrics\\_classification.py:1318: UndefinedMetricWarning: Precision and F-score are ill-defined and being set to 0.0 in labels with no predicted samples. Use `zero_division` parameter to control this behavior.\n",
      "  _warn_prf(average, modifier, msg_start, len(result))\n"
     ]
    },
    {
     "name": "stdout",
     "output_type": "stream",
     "text": [
      "Classification report of training data:\n",
      "               precision    recall  f1-score   support\n",
      "\n",
      "           0       0.00      0.00      0.00     49898\n",
      "           1       0.17      0.99      0.30    103821\n",
      "           2       0.00      0.00      0.00     84725\n",
      "           3       0.00      0.00      0.00     68662\n",
      "           4       0.00      0.00      0.00     57491\n",
      "           5       0.00      0.00      0.00     59772\n",
      "           6       0.00      0.00      0.00     46709\n",
      "           7       0.00      0.00      0.00     48992\n",
      "           8       0.14      0.03      0.05     39803\n",
      "           9       0.00      0.00      0.00     38515\n",
      "\n",
      "    accuracy                           0.17    598388\n",
      "   macro avg       0.03      0.10      0.04    598388\n",
      "weighted avg       0.04      0.17      0.06    598388\n",
      "\n",
      "Confusion Matrix of training data:\n",
      " [[     0  49246      0      0      0      0      0      0    652      0]\n",
      " [     0 102800      0      0      0      0      0      0   1021      0]\n",
      " [     0  83487      0      0      0      0      0      0   1238      0]\n",
      " [     0  67183      0      0      0      0      0      0   1479      0]\n",
      " [     0  56596      0      0      0      0      0      0    895      0]\n",
      " [     0  58885      0      0      0      0      0      0    887      0]\n",
      " [     0  45703      0      0      0      0      0      0   1006      0]\n",
      " [     0  48504      0      0      0      0      0      0    488      0]\n",
      " [     0  38448      0      0      0      0      0      0   1355      0]\n",
      " [     0  37906      0      0      0      0      0      0    609      0]]\n",
      "Classification report of validation data:\n",
      "               precision    recall  f1-score   support\n",
      "\n",
      "           0       0.00      0.00      0.00       600\n",
      "           1       0.10      0.99      0.18       600\n",
      "           2       0.00      0.00      0.00       600\n",
      "           3       0.00      0.00      0.00       600\n",
      "           4       0.00      0.00      0.00       600\n",
      "           5       0.00      0.00      0.00       600\n",
      "           6       0.00      0.00      0.00       600\n",
      "           7       0.00      0.00      0.00       600\n",
      "           8       0.16      0.03      0.05       600\n",
      "           9       0.00      0.00      0.00       600\n",
      "\n",
      "    accuracy                           0.10      6000\n",
      "   macro avg       0.03      0.10      0.02      6000\n",
      "weighted avg       0.03      0.10      0.02      6000\n",
      "\n",
      "Confusion Matrix of validation data:\n",
      " [[  0 592   0   0   0   0   0   0   8   0]\n",
      " [  0 594   0   0   0   0   0   0   6   0]\n",
      " [  0 595   0   0   0   0   0   0   5   0]\n",
      " [  0 589   0   0   0   0   0   0  11   0]\n",
      " [  0 588   0   0   0   0   0   0  12   0]\n",
      " [  0 589   0   0   0   0   0   0  11   0]\n",
      " [  0 588   0   0   0   0   0   0  12   0]\n",
      " [  0 588   0   0   0   0   0   0  12   0]\n",
      " [  0 584   0   0   0   0   0   0  16   0]\n",
      " [  0 590   0   0   0   0   0   0  10   0]]\n"
     ]
    },
    {
     "name": "stderr",
     "output_type": "stream",
     "text": [
      "D:\\anaconda3\\envs\\fl37\\lib\\site-packages\\sklearn\\metrics\\_classification.py:1318: UndefinedMetricWarning: Precision and F-score are ill-defined and being set to 0.0 in labels with no predicted samples. Use `zero_division` parameter to control this behavior.\n",
      "  _warn_prf(average, modifier, msg_start, len(result))\n",
      "D:\\anaconda3\\envs\\fl37\\lib\\site-packages\\sklearn\\metrics\\_classification.py:1318: UndefinedMetricWarning: Precision and F-score are ill-defined and being set to 0.0 in labels with no predicted samples. Use `zero_division` parameter to control this behavior.\n",
      "  _warn_prf(average, modifier, msg_start, len(result))\n",
      "D:\\anaconda3\\envs\\fl37\\lib\\site-packages\\sklearn\\metrics\\_classification.py:1318: UndefinedMetricWarning: Precision and F-score are ill-defined and being set to 0.0 in labels with no predicted samples. Use `zero_division` parameter to control this behavior.\n",
      "  _warn_prf(average, modifier, msg_start, len(result))\n"
     ]
    }
   ],
   "source": [
    "# Create a Logistic Regression Classifier\n",
    "clf = SGDClassifier(loss='hinge', penalty='l2', alpha=0.001, shuffle=True, verbose=0,\\\n",
    "                    n_jobs=4, random_state=None, learning_rate='optimal')\n",
    "clf.fit(train_data_c.reshape(train_data_GCN.shape[0],-1), train_labels_t)\n",
    "train_prediction = clf.predict(train_data_GCN.reshape(train_data_GCN.shape[0],-1))\n",
    "valid_prediction = clf.predict(valid_data_GCN.reshape(valid_data_GCN.shape[0],-1))\n",
    "\n",
    "print('Training score is', clf.score(train_data_GCN.reshape(train_data_GCN.shape[0],-1), train_labels_t))\n",
    "print('Validation score is', clf.score(valid_data_GCN.reshape(valid_data_GCN.shape[0],-1), valid_labels))\n",
    "\n",
    "print('Classification report of training data:\\n', classification_report(train_labels_t, train_prediction))\n",
    "print('Confusion Matrix of training data:\\n', confusion_matrix(train_labels_t, train_prediction))\n",
    "\n",
    "print('Classification report of validation data:\\n', classification_report(valid_labels, valid_prediction))\n",
    "print('Confusion Matrix of validation data:\\n', confusion_matrix(valid_labels, valid_prediction))"
   ]
  },
  {
   "cell_type": "code",
   "execution_count": null,
   "metadata": {},
   "outputs": [],
   "source": []
  }
 ],
 "metadata": {
  "kernelspec": {
   "display_name": "Python 3 (ipykernel)",
   "language": "python",
   "name": "python3"
  },
  "language_info": {
   "codemirror_mode": {
    "name": "ipython",
    "version": 3
   },
   "file_extension": ".py",
   "mimetype": "text/x-python",
   "name": "python",
   "nbconvert_exporter": "python",
   "pygments_lexer": "ipython3",
   "version": "3.7.16"
  }
 },
 "nbformat": 4,
 "nbformat_minor": 4
}
